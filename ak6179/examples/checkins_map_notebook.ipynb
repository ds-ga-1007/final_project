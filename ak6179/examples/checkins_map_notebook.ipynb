{
 "cells": [
  {
   "cell_type": "markdown",
   "metadata": {},
   "source": [
    "For the demo run the cells sequentially. At the end there are a couple of examples showing checkins in the city\n",
    "of Edinburgh and Las Vegas. You can visualize checkins for different cities. To get the list of different cities refer to the get_location_checkin_data method.\n",
    "\n",
    "Note that you should have downloaded and unzipped the data ('mapping-yelp-data') as indicated in the README.md"
   ]
  },
  {
   "cell_type": "code",
   "execution_count": 1,
   "metadata": {
    "collapsed": false
   },
   "outputs": [],
   "source": [
    "import gmaps\n",
    "import sys\n",
    "import json\n",
    "import pandas as pd\n",
    "import datetime\n",
    "sys.path.append('../src')\n",
    "import yelp_data\n",
    "import average_rating"
   ]
  },
  {
   "cell_type": "code",
   "execution_count": 2,
   "metadata": {
    "collapsed": false
   },
   "outputs": [],
   "source": [
    "def setup_map(api_key_path='../mapping-yelp-data/api-keys/maps-api.key'):\n",
    "    \"\"\"\n",
    "    Sets up the geographical map.\n",
    "    \"\"\"\n",
    "    with open(api_key_path) as f:\n",
    "        api_key = f.read().strip()\n",
    "    gmaps.configure(api_key)\n",
    "    data_map = gmaps.Map()\n",
    "    return data_map\n",
    "\n",
    "def get_location_checkin_data(checkin_df, business_data, city='All'):\n",
    "    \"\"\"\n",
    "    :param checkin_df:\n",
    "    :param business_df:\n",
    "    :param city: City for which you want to get the location data. By default location data\n",
    "    for all the cities is returned\n",
    "    Different cities that you can visualize: ['Edinburgh', 'Karlsruhe', 'Montreal', 'Waterloo', \n",
    "                                              'Pittsburgh', 'Urbana-Champaign', 'Phoenix', \n",
    "                                              'Las Vegas', 'Madison']\n",
    "    :return: Location data for the specified city.\n",
    "    \"\"\"\n",
    "    if city != 'All':\n",
    "        mask = business_data['city'] == city\n",
    "        business_df = pd.DataFrame(business_data[mask])\n",
    "    else:\n",
    "        business_df = pd.DataFrame(business_data)\n",
    "    checkin_location_data = pd.merge(checkin_df, business_df, on='business_id', how='inner')\n",
    "    business_locations_df = data.get_business_data_locations(checkin_location_data)\n",
    "    business_locations_checkins = [(x, y, z) for x, y, z in \n",
    "                          zip(business_locations_df['latitude'], \n",
    "                              business_locations_df['longitude'],\n",
    "                              checkin_location_data['count_checkins'])]\n",
    "    return business_locations_checkins\n",
    "\n",
    "def get_map(business_locations, point_radius=3):\n",
    "    \"\"\"\n",
    "    :param business_locations: (latitude, longitude) coordinates of businesses\n",
    "    :return: Geographical map with a heatmap of different checkins\n",
    "    \"\"\"\n",
    "    data_map = setup_map()\n",
    "    weighted_heatmap_layer = gmaps.WeightedHeatmap(data=business_locations)\n",
    "    weighted_heatmap_layer.max_intensity = 5\n",
    "    weighted_heatmap_layer.point_radius = point_radius\n",
    "    data_map.add_layer(weighted_heatmap_layer)\n",
    "    return data_map\n",
    "\n",
    "def checkin_counts(checkin_info):\n",
    "    \"\"\"\n",
    "    :param checkin_info: dictonary containing number of checkins for different blocks\n",
    "    of time\n",
    "    :return: sum of all checkins.\n",
    "    \"\"\"\n",
    "    return sum(checkin_info.values())"
   ]
  },
  {
   "cell_type": "code",
   "execution_count": 3,
   "metadata": {
    "collapsed": true
   },
   "outputs": [],
   "source": [
    "# Loading data in memory to save time\n",
    "data = yelp_data.YelpData(datapath='../mapping-yelp-data/yelp_dataset_challenge_academic_dataset/')\n",
    "checkin_data = data.get_checkin_dataframe()\n",
    "checkin_data['count_checkins'] = checkin_data['checkin_info'].map(checkin_counts)\n",
    "business_data = data.get_business_dataframe()"
   ]
  },
  {
   "cell_type": "markdown",
   "metadata": {},
   "source": [
    "### Heatmap for checkins. The heatmap is weighed according to the number of checkins at a particular place."
   ]
  },
  {
   "cell_type": "code",
   "execution_count": 4,
   "metadata": {
    "collapsed": false
   },
   "outputs": [],
   "source": [
    "# Example showing check-ins in Edinburgh\n",
    "business_checkin_data = get_location_checkin_data(checkin_data, business_data, city='Edinburgh')\n",
    "business_map = get_map(business_checkin_data)\n",
    "# You can zoom in, zoom out with controls in bottom right. You can also switch to a satellite mode.\n",
    "business_map"
   ]
  },
  {
   "cell_type": "code",
   "execution_count": 5,
   "metadata": {
    "collapsed": false
   },
   "outputs": [],
   "source": [
    "# Example showing check-ins in Las Vegas\n",
    "business_checkin_data = get_location_checkin_data(checkin_data, business_data, city='Las Vegas')\n",
    "business_map = get_map(business_checkin_data, point_radius=2) # using a smaller point_radius\n",
    "business_map"
   ]
  },
  {
   "cell_type": "code",
   "execution_count": null,
   "metadata": {
    "collapsed": true
   },
   "outputs": [],
   "source": []
  }
 ],
 "metadata": {
  "anaconda-cloud": {},
  "kernelspec": {
   "display_name": "Python [Root]",
   "language": "python",
   "name": "Python [Root]"
  },
  "language_info": {
   "codemirror_mode": {
    "name": "ipython",
    "version": 3
   },
   "file_extension": ".py",
   "mimetype": "text/x-python",
   "name": "python",
   "nbconvert_exporter": "python",
   "pygments_lexer": "ipython3",
   "version": "3.5.2"
  },
  "widgets": {
   "state": {
    "5910b81eec6447b7987699e6444d2eb6": {
     "views": [
      {
       "cell_index": 5
      }
     ]
    },
    "c6466305e390420eb292cbb6b53b04b5": {
     "views": [
      {
       "cell_index": 4
      }
     ]
    }
   },
   "version": "1.2.0"
  }
 },
 "nbformat": 4,
 "nbformat_minor": 0
}
